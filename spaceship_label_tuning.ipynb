{
  "cells": [
    {
      "cell_type": "code",
      "execution_count": 1,
      "metadata": {
        "id": "dGDY51chY9xQ"
      },
      "outputs": [],
      "source": [
        "import pandas as pd\n",
        "import numpy as np\n",
        "\n",
        "from sklearn.model_selection import train_test_split\n",
        "from sklearn.svm import SVC\n",
        "from sklearn.metrics import accuracy_score\n",
        "from sklearn.model_selection import GridSearchCV"
      ]
    },
    {
      "cell_type": "code",
      "execution_count": 2,
      "metadata": {},
      "outputs": [],
      "source": [
        "df_train = pd.read_csv('train.csv')\n",
        "df_test = pd.read_csv('test.csv')"
      ]
    },
    {
      "cell_type": "code",
      "execution_count": 3,
      "metadata": {},
      "outputs": [
        {
          "data": {
            "text/plain": [
              "0       False\n",
              "1        True\n",
              "2       False\n",
              "3       False\n",
              "4        True\n",
              "        ...  \n",
              "8688    False\n",
              "8689    False\n",
              "8690     True\n",
              "8691    False\n",
              "8692     True\n",
              "Name: Transported, Length: 8693, dtype: bool"
            ]
          },
          "execution_count": 3,
          "metadata": {},
          "output_type": "execute_result"
        }
      ],
      "source": [
        "target = df_train.pop('Transported')\n",
        "target"
      ]
    },
    {
      "cell_type": "code",
      "execution_count": 4,
      "metadata": {},
      "outputs": [
        {
          "data": {
            "text/html": [
              "<div>\n",
              "<style scoped>\n",
              "    .dataframe tbody tr th:only-of-type {\n",
              "        vertical-align: middle;\n",
              "    }\n",
              "\n",
              "    .dataframe tbody tr th {\n",
              "        vertical-align: top;\n",
              "    }\n",
              "\n",
              "    .dataframe thead th {\n",
              "        text-align: right;\n",
              "    }\n",
              "</style>\n",
              "<table border=\"1\" class=\"dataframe\">\n",
              "  <thead>\n",
              "    <tr style=\"text-align: right;\">\n",
              "      <th></th>\n",
              "      <th>PassengerId</th>\n",
              "      <th>HomePlanet</th>\n",
              "      <th>CryoSleep</th>\n",
              "      <th>Cabin</th>\n",
              "      <th>Destination</th>\n",
              "      <th>Age</th>\n",
              "      <th>VIP</th>\n",
              "      <th>RoomService</th>\n",
              "      <th>FoodCourt</th>\n",
              "      <th>ShoppingMall</th>\n",
              "      <th>Spa</th>\n",
              "      <th>VRDeck</th>\n",
              "      <th>Name</th>\n",
              "    </tr>\n",
              "  </thead>\n",
              "  <tbody>\n",
              "    <tr>\n",
              "      <th>0</th>\n",
              "      <td>0001_01</td>\n",
              "      <td>Europa</td>\n",
              "      <td>False</td>\n",
              "      <td>B/0/P</td>\n",
              "      <td>TRAPPIST-1e</td>\n",
              "      <td>39.0</td>\n",
              "      <td>False</td>\n",
              "      <td>0.0</td>\n",
              "      <td>0.0</td>\n",
              "      <td>0.0</td>\n",
              "      <td>0.0</td>\n",
              "      <td>0.0</td>\n",
              "      <td>Maham Ofracculy</td>\n",
              "    </tr>\n",
              "    <tr>\n",
              "      <th>1</th>\n",
              "      <td>0002_01</td>\n",
              "      <td>Earth</td>\n",
              "      <td>False</td>\n",
              "      <td>F/0/S</td>\n",
              "      <td>TRAPPIST-1e</td>\n",
              "      <td>24.0</td>\n",
              "      <td>False</td>\n",
              "      <td>109.0</td>\n",
              "      <td>9.0</td>\n",
              "      <td>25.0</td>\n",
              "      <td>549.0</td>\n",
              "      <td>44.0</td>\n",
              "      <td>Juanna Vines</td>\n",
              "    </tr>\n",
              "    <tr>\n",
              "      <th>2</th>\n",
              "      <td>0003_01</td>\n",
              "      <td>Europa</td>\n",
              "      <td>False</td>\n",
              "      <td>A/0/S</td>\n",
              "      <td>TRAPPIST-1e</td>\n",
              "      <td>58.0</td>\n",
              "      <td>True</td>\n",
              "      <td>43.0</td>\n",
              "      <td>3576.0</td>\n",
              "      <td>0.0</td>\n",
              "      <td>6715.0</td>\n",
              "      <td>49.0</td>\n",
              "      <td>Altark Susent</td>\n",
              "    </tr>\n",
              "    <tr>\n",
              "      <th>3</th>\n",
              "      <td>0003_02</td>\n",
              "      <td>Europa</td>\n",
              "      <td>False</td>\n",
              "      <td>A/0/S</td>\n",
              "      <td>TRAPPIST-1e</td>\n",
              "      <td>33.0</td>\n",
              "      <td>False</td>\n",
              "      <td>0.0</td>\n",
              "      <td>1283.0</td>\n",
              "      <td>371.0</td>\n",
              "      <td>3329.0</td>\n",
              "      <td>193.0</td>\n",
              "      <td>Solam Susent</td>\n",
              "    </tr>\n",
              "    <tr>\n",
              "      <th>4</th>\n",
              "      <td>0004_01</td>\n",
              "      <td>Earth</td>\n",
              "      <td>False</td>\n",
              "      <td>F/1/S</td>\n",
              "      <td>TRAPPIST-1e</td>\n",
              "      <td>16.0</td>\n",
              "      <td>False</td>\n",
              "      <td>303.0</td>\n",
              "      <td>70.0</td>\n",
              "      <td>151.0</td>\n",
              "      <td>565.0</td>\n",
              "      <td>2.0</td>\n",
              "      <td>Willy Santantines</td>\n",
              "    </tr>\n",
              "  </tbody>\n",
              "</table>\n",
              "</div>"
            ],
            "text/plain": [
              "  PassengerId HomePlanet CryoSleep  Cabin  Destination   Age    VIP  \\\n",
              "0     0001_01     Europa     False  B/0/P  TRAPPIST-1e  39.0  False   \n",
              "1     0002_01      Earth     False  F/0/S  TRAPPIST-1e  24.0  False   \n",
              "2     0003_01     Europa     False  A/0/S  TRAPPIST-1e  58.0   True   \n",
              "3     0003_02     Europa     False  A/0/S  TRAPPIST-1e  33.0  False   \n",
              "4     0004_01      Earth     False  F/1/S  TRAPPIST-1e  16.0  False   \n",
              "\n",
              "   RoomService  FoodCourt  ShoppingMall     Spa  VRDeck               Name  \n",
              "0          0.0        0.0           0.0     0.0     0.0    Maham Ofracculy  \n",
              "1        109.0        9.0          25.0   549.0    44.0       Juanna Vines  \n",
              "2         43.0     3576.0           0.0  6715.0    49.0      Altark Susent  \n",
              "3          0.0     1283.0         371.0  3329.0   193.0       Solam Susent  \n",
              "4        303.0       70.0         151.0   565.0     2.0  Willy Santantines  "
            ]
          },
          "execution_count": 4,
          "metadata": {},
          "output_type": "execute_result"
        }
      ],
      "source": [
        "df_full = pd.concat([df_train, df_test], axis=0).reset_index(drop=True)\n",
        "df_full.head()"
      ]
    },
    {
      "cell_type": "code",
      "execution_count": 5,
      "metadata": {
        "colab": {
          "base_uri": "https://localhost:8080/"
        },
        "id": "wAOvWzlKZhe0",
        "outputId": "275bd8d6-6e47-43e1-b9c3-8bfaa0b332d3"
      },
      "outputs": [
        {
          "data": {
            "text/plain": [
              "(12970, 13)"
            ]
          },
          "execution_count": 5,
          "metadata": {},
          "output_type": "execute_result"
        }
      ],
      "source": [
        "df_full.shape"
      ]
    },
    {
      "cell_type": "code",
      "execution_count": 6,
      "metadata": {},
      "outputs": [
        {
          "data": {
            "text/plain": [
              "PassengerId      object\n",
              "HomePlanet       object\n",
              "CryoSleep        object\n",
              "Cabin            object\n",
              "Destination      object\n",
              "Age             float64\n",
              "VIP              object\n",
              "RoomService     float64\n",
              "FoodCourt       float64\n",
              "ShoppingMall    float64\n",
              "Spa             float64\n",
              "VRDeck          float64\n",
              "Name             object\n",
              "dtype: object"
            ]
          },
          "execution_count": 6,
          "metadata": {},
          "output_type": "execute_result"
        }
      ],
      "source": [
        "df_full.dtypes"
      ]
    },
    {
      "cell_type": "markdown",
      "metadata": {},
      "source": [
        "### Preprocessing"
      ]
    },
    {
      "cell_type": "code",
      "execution_count": 7,
      "metadata": {},
      "outputs": [
        {
          "data": {
            "text/plain": [
              "PassengerId     0.000\n",
              "HomePlanet      2.221\n",
              "CryoSleep       2.390\n",
              "Cabin           2.305\n",
              "Destination     2.113\n",
              "Age             2.082\n",
              "VIP             2.282\n",
              "RoomService     2.028\n",
              "FoodCourt       2.228\n",
              "ShoppingMall    2.359\n",
              "Spa             2.190\n",
              "VRDeck          2.066\n",
              "Name            2.267\n",
              "dtype: float64"
            ]
          },
          "execution_count": 7,
          "metadata": {},
          "output_type": "execute_result"
        }
      ],
      "source": [
        "round(df_full.isna().sum() * 100 / df_full.shape[0], 3)"
      ]
    },
    {
      "cell_type": "code",
      "execution_count": 8,
      "metadata": {},
      "outputs": [
        {
          "data": {
            "text/plain": [
              "['PassengerId',\n",
              " 'HomePlanet',\n",
              " 'CryoSleep',\n",
              " 'Cabin',\n",
              " 'Destination',\n",
              " 'VIP',\n",
              " 'Name']"
            ]
          },
          "execution_count": 8,
          "metadata": {},
          "output_type": "execute_result"
        }
      ],
      "source": [
        "df_full_1 = df_full.copy()\n",
        "\n",
        "list_missing_cat_columns = list((df_full_1.select_dtypes(['object', 'category']).isna().sum() > 0). index)\n",
        "list_missing_cat_columns"
      ]
    },
    {
      "cell_type": "code",
      "execution_count": 9,
      "metadata": {},
      "outputs": [],
      "source": [
        "for col in list_missing_cat_columns:\n",
        "    most_frequent_value = df_full_1[col].mode()[0]\n",
        "    df_full_1[col] = df_full_1[col].fillna(most_frequent_value)"
      ]
    },
    {
      "cell_type": "code",
      "execution_count": 10,
      "metadata": {},
      "outputs": [
        {
          "data": {
            "text/plain": [
              "['Age', 'RoomService', 'FoodCourt', 'ShoppingMall', 'Spa', 'VRDeck']"
            ]
          },
          "execution_count": 10,
          "metadata": {},
          "output_type": "execute_result"
        }
      ],
      "source": [
        "list_missing_num_columns = list((df_full_1.select_dtypes(np.number).isna().sum() > 0).index)\n",
        "list_missing_num_columns"
      ]
    },
    {
      "cell_type": "code",
      "execution_count": 11,
      "metadata": {},
      "outputs": [],
      "source": [
        "for col in list_missing_num_columns:\n",
        "    df_full_1[col] = df_full_1[col].fillna(df_full_1[col].interpolate())"
      ]
    },
    {
      "cell_type": "code",
      "execution_count": 12,
      "metadata": {},
      "outputs": [
        {
          "data": {
            "text/plain": [
              "PassengerId     0\n",
              "HomePlanet      0\n",
              "CryoSleep       0\n",
              "Cabin           0\n",
              "Destination     0\n",
              "Age             0\n",
              "VIP             0\n",
              "RoomService     0\n",
              "FoodCourt       0\n",
              "ShoppingMall    0\n",
              "Spa             0\n",
              "VRDeck          0\n",
              "Name            0\n",
              "dtype: int64"
            ]
          },
          "execution_count": 12,
          "metadata": {},
          "output_type": "execute_result"
        }
      ],
      "source": [
        "df_full_1.isnull().sum()"
      ]
    },
    {
      "cell_type": "code",
      "execution_count": 13,
      "metadata": {
        "id": "BZ_vI_cuiDRb"
      },
      "outputs": [],
      "source": [
        "df_full_1['CryoSleep'] = df_full_1['CryoSleep'].astype(bool)\n",
        "df_full_1['VIP'] = df_full_1['VIP'].astype(bool)"
      ]
    },
    {
      "cell_type": "code",
      "execution_count": 14,
      "metadata": {},
      "outputs": [],
      "source": [
        "def extract_features(df):\n",
        "    df['PassengerGroup'] = (df['PassengerId'].str.split('_', expand=True))[0]\n",
        "    \n",
        "    df['CabinDeck'] = df['Cabin'].str.split('/', expand=True)[0]\n",
        "    \n",
        "    df['DeckPosition'] = df['CabinDeck'].apply(lambda deck: 'Lower' if deck in ('A', 'B', 'C', 'D') else 'Higher')\n",
        "    \n",
        "    df['CabinSide'] = df['Cabin'].str.split('/', expand=True)[2]\n",
        "    \n",
        "    df[\"FamilyName\"] = df[\"Name\"].str.split(' ', expand = True)[1]\n",
        "    \n",
        "    # Membuat fitur NoRelatives (Jumlah Anggota Keluarga)\n",
        "    NoRelatives = df.groupby('FamilyName')['PassengerId'].count().reset_index()\n",
        "    NoRelatives = NoRelatives.rename(columns = {\"PassengerId\": \"NoRelatives\"})\n",
        "    \n",
        "    df = df.merge(NoRelatives[[\"FamilyName\", \"NoRelatives\"]], how = 'left', on = ['FamilyName'])\n",
        "    \n",
        "    df[\"FamilySizeCat\"] = pd.cut(df.NoRelatives, bins = [0, 2, 5, 10, 300], labels = ['0 - 2', '3 - 5', '6 - 10', '11 - 208'])\n",
        "\n",
        "    return df"
      ]
    },
    {
      "cell_type": "code",
      "execution_count": 15,
      "metadata": {},
      "outputs": [],
      "source": [
        "df_full_2 = df_full_1.copy()\n",
        "df_full_2 = extract_features(df_full_1)"
      ]
    },
    {
      "cell_type": "code",
      "execution_count": 16,
      "metadata": {
        "colab": {
          "base_uri": "https://localhost:8080/"
        },
        "id": "uHWcMYCaiiGV",
        "outputId": "fffbfde3-8c3d-43dd-dfc5-a4e8b63846c4"
      },
      "outputs": [
        {
          "data": {
            "text/plain": [
              "PassengerId       12970\n",
              "HomePlanet            3\n",
              "CryoSleep             2\n",
              "Cabin              9825\n",
              "Destination           3\n",
              "Age                 125\n",
              "VIP                   2\n",
              "RoomService        1665\n",
              "FoodCourt          2056\n",
              "ShoppingMall       1454\n",
              "Spa                1775\n",
              "VRDeck             1715\n",
              "Name              12629\n",
              "PassengerGroup     9280\n",
              "CabinDeck             8\n",
              "DeckPosition          2\n",
              "CabinSide             2\n",
              "FamilyName         2406\n",
              "NoRelatives          20\n",
              "FamilySizeCat         4\n",
              "dtype: int64"
            ]
          },
          "execution_count": 16,
          "metadata": {},
          "output_type": "execute_result"
        }
      ],
      "source": [
        "df_full_2.nunique()"
      ]
    },
    {
      "cell_type": "code",
      "execution_count": 17,
      "metadata": {},
      "outputs": [
        {
          "data": {
            "text/plain": [
              "(12970, 15)"
            ]
          },
          "execution_count": 17,
          "metadata": {},
          "output_type": "execute_result"
        }
      ],
      "source": [
        "delete_columns = ['Cabin', 'PassengerId', 'Name', 'FamilyName', 'PassengerGroup']\n",
        "df_full_2 = df_full_2.drop(delete_columns, axis=1)\n",
        "df_full_2.shape"
      ]
    },
    {
      "cell_type": "code",
      "execution_count": 18,
      "metadata": {
        "id": "nLJP7DCGaxAw"
      },
      "outputs": [],
      "source": [
        "from sklearn.preprocessing import StandardScaler\n",
        "\n",
        "df_full_3 = df_full_2.copy()\n",
        "column = df_full_3.select_dtypes(include=np.number).columns\n",
        "scaler = StandardScaler()\n",
        "scaled = scaler.fit_transform(df_full_2[column])\n",
        "df_full_3.loc[:, column] = scaled"
      ]
    },
    {
      "cell_type": "code",
      "execution_count": 19,
      "metadata": {},
      "outputs": [
        {
          "data": {
            "text/plain": [
              "Index(['HomePlanet', 'Destination', 'CabinDeck', 'DeckPosition', 'CabinSide',\n",
              "       'FamilySizeCat'],\n",
              "      dtype='object')"
            ]
          },
          "execution_count": 19,
          "metadata": {},
          "output_type": "execute_result"
        }
      ],
      "source": [
        "df_full_3.select_dtypes(include=['object', 'category']).columns"
      ]
    },
    {
      "cell_type": "code",
      "execution_count": 20,
      "metadata": {},
      "outputs": [
        {
          "data": {
            "text/html": [
              "<div>\n",
              "<style scoped>\n",
              "    .dataframe tbody tr th:only-of-type {\n",
              "        vertical-align: middle;\n",
              "    }\n",
              "\n",
              "    .dataframe tbody tr th {\n",
              "        vertical-align: top;\n",
              "    }\n",
              "\n",
              "    .dataframe thead th {\n",
              "        text-align: right;\n",
              "    }\n",
              "</style>\n",
              "<table border=\"1\" class=\"dataframe\">\n",
              "  <thead>\n",
              "    <tr style=\"text-align: right;\">\n",
              "      <th></th>\n",
              "      <th>HomePlanet</th>\n",
              "      <th>CryoSleep</th>\n",
              "      <th>Destination</th>\n",
              "      <th>Age</th>\n",
              "      <th>VIP</th>\n",
              "      <th>RoomService</th>\n",
              "      <th>FoodCourt</th>\n",
              "      <th>ShoppingMall</th>\n",
              "      <th>Spa</th>\n",
              "      <th>VRDeck</th>\n",
              "      <th>CabinDeck</th>\n",
              "      <th>DeckPosition</th>\n",
              "      <th>CabinSide</th>\n",
              "      <th>NoRelatives</th>\n",
              "      <th>FamilySizeCat</th>\n",
              "    </tr>\n",
              "  </thead>\n",
              "  <tbody>\n",
              "    <tr>\n",
              "      <th>0</th>\n",
              "      <td>Europa</td>\n",
              "      <td>False</td>\n",
              "      <td>TRAPPIST-1e</td>\n",
              "      <td>0.714593</td>\n",
              "      <td>False</td>\n",
              "      <td>-0.346419</td>\n",
              "      <td>-0.287142</td>\n",
              "      <td>-0.297370</td>\n",
              "      <td>-0.274880</td>\n",
              "      <td>-0.261156</td>\n",
              "      <td>B</td>\n",
              "      <td>Lower</td>\n",
              "      <td>P</td>\n",
              "      <td>-0.249099</td>\n",
              "      <td>3 - 5</td>\n",
              "    </tr>\n",
              "    <tr>\n",
              "      <th>1</th>\n",
              "      <td>Earth</td>\n",
              "      <td>False</td>\n",
              "      <td>TRAPPIST-1e</td>\n",
              "      <td>-0.333064</td>\n",
              "      <td>False</td>\n",
              "      <td>-0.177029</td>\n",
              "      <td>-0.281426</td>\n",
              "      <td>-0.254628</td>\n",
              "      <td>0.212625</td>\n",
              "      <td>-0.223642</td>\n",
              "      <td>F</td>\n",
              "      <td>Higher</td>\n",
              "      <td>S</td>\n",
              "      <td>-0.226446</td>\n",
              "      <td>3 - 5</td>\n",
              "    </tr>\n",
              "    <tr>\n",
              "      <th>2</th>\n",
              "      <td>Europa</td>\n",
              "      <td>False</td>\n",
              "      <td>TRAPPIST-1e</td>\n",
              "      <td>2.041626</td>\n",
              "      <td>True</td>\n",
              "      <td>-0.279595</td>\n",
              "      <td>1.983971</td>\n",
              "      <td>-0.297370</td>\n",
              "      <td>5.687956</td>\n",
              "      <td>-0.219379</td>\n",
              "      <td>A</td>\n",
              "      <td>Lower</td>\n",
              "      <td>S</td>\n",
              "      <td>-0.158487</td>\n",
              "      <td>6 - 10</td>\n",
              "    </tr>\n",
              "    <tr>\n",
              "      <th>3</th>\n",
              "      <td>Europa</td>\n",
              "      <td>False</td>\n",
              "      <td>TRAPPIST-1e</td>\n",
              "      <td>0.295530</td>\n",
              "      <td>False</td>\n",
              "      <td>-0.346419</td>\n",
              "      <td>0.527690</td>\n",
              "      <td>0.336922</td>\n",
              "      <td>2.681230</td>\n",
              "      <td>-0.096608</td>\n",
              "      <td>A</td>\n",
              "      <td>Lower</td>\n",
              "      <td>S</td>\n",
              "      <td>-0.158487</td>\n",
              "      <td>6 - 10</td>\n",
              "    </tr>\n",
              "    <tr>\n",
              "      <th>4</th>\n",
              "      <td>Earth</td>\n",
              "      <td>False</td>\n",
              "      <td>TRAPPIST-1e</td>\n",
              "      <td>-0.891815</td>\n",
              "      <td>False</td>\n",
              "      <td>0.124454</td>\n",
              "      <td>-0.242685</td>\n",
              "      <td>-0.039208</td>\n",
              "      <td>0.226833</td>\n",
              "      <td>-0.259451</td>\n",
              "      <td>F</td>\n",
              "      <td>Higher</td>\n",
              "      <td>S</td>\n",
              "      <td>-0.113181</td>\n",
              "      <td>6 - 10</td>\n",
              "    </tr>\n",
              "  </tbody>\n",
              "</table>\n",
              "</div>"
            ],
            "text/plain": [
              "  HomePlanet  CryoSleep  Destination       Age    VIP  RoomService  FoodCourt  \\\n",
              "0     Europa      False  TRAPPIST-1e  0.714593  False    -0.346419  -0.287142   \n",
              "1      Earth      False  TRAPPIST-1e -0.333064  False    -0.177029  -0.281426   \n",
              "2     Europa      False  TRAPPIST-1e  2.041626   True    -0.279595   1.983971   \n",
              "3     Europa      False  TRAPPIST-1e  0.295530  False    -0.346419   0.527690   \n",
              "4      Earth      False  TRAPPIST-1e -0.891815  False     0.124454  -0.242685   \n",
              "\n",
              "   ShoppingMall       Spa    VRDeck CabinDeck DeckPosition CabinSide  \\\n",
              "0     -0.297370 -0.274880 -0.261156         B        Lower         P   \n",
              "1     -0.254628  0.212625 -0.223642         F       Higher         S   \n",
              "2     -0.297370  5.687956 -0.219379         A        Lower         S   \n",
              "3      0.336922  2.681230 -0.096608         A        Lower         S   \n",
              "4     -0.039208  0.226833 -0.259451         F       Higher         S   \n",
              "\n",
              "   NoRelatives FamilySizeCat  \n",
              "0    -0.249099         3 - 5  \n",
              "1    -0.226446         3 - 5  \n",
              "2    -0.158487        6 - 10  \n",
              "3    -0.158487        6 - 10  \n",
              "4    -0.113181        6 - 10  "
            ]
          },
          "execution_count": 20,
          "metadata": {},
          "output_type": "execute_result"
        }
      ],
      "source": [
        "df_full_3.head()"
      ]
    },
    {
      "cell_type": "code",
      "execution_count": 21,
      "metadata": {},
      "outputs": [
        {
          "name": "stdout",
          "output_type": "stream",
          "text": [
            "HomePlanet: [1 0 2]\n",
            "Destination: [2 1 0]\n",
            "CabinDeck: [1 5 0 6 4 3 2 7]\n",
            "DeckPosition: [1 0]\n",
            "CabinSide: [0 1]\n",
            "FamilySizeCat: [2 3 1 0]\n"
          ]
        },
        {
          "data": {
            "text/html": [
              "<div>\n",
              "<style scoped>\n",
              "    .dataframe tbody tr th:only-of-type {\n",
              "        vertical-align: middle;\n",
              "    }\n",
              "\n",
              "    .dataframe tbody tr th {\n",
              "        vertical-align: top;\n",
              "    }\n",
              "\n",
              "    .dataframe thead th {\n",
              "        text-align: right;\n",
              "    }\n",
              "</style>\n",
              "<table border=\"1\" class=\"dataframe\">\n",
              "  <thead>\n",
              "    <tr style=\"text-align: right;\">\n",
              "      <th></th>\n",
              "      <th>HomePlanet</th>\n",
              "      <th>CryoSleep</th>\n",
              "      <th>Destination</th>\n",
              "      <th>Age</th>\n",
              "      <th>VIP</th>\n",
              "      <th>RoomService</th>\n",
              "      <th>FoodCourt</th>\n",
              "      <th>ShoppingMall</th>\n",
              "      <th>Spa</th>\n",
              "      <th>VRDeck</th>\n",
              "      <th>CabinDeck</th>\n",
              "      <th>DeckPosition</th>\n",
              "      <th>CabinSide</th>\n",
              "      <th>NoRelatives</th>\n",
              "      <th>FamilySizeCat</th>\n",
              "    </tr>\n",
              "  </thead>\n",
              "  <tbody>\n",
              "    <tr>\n",
              "      <th>0</th>\n",
              "      <td>1</td>\n",
              "      <td>False</td>\n",
              "      <td>2</td>\n",
              "      <td>0.714593</td>\n",
              "      <td>False</td>\n",
              "      <td>-0.346419</td>\n",
              "      <td>-0.287142</td>\n",
              "      <td>-0.297370</td>\n",
              "      <td>-0.274880</td>\n",
              "      <td>-0.261156</td>\n",
              "      <td>1</td>\n",
              "      <td>1</td>\n",
              "      <td>0</td>\n",
              "      <td>-0.249099</td>\n",
              "      <td>2</td>\n",
              "    </tr>\n",
              "    <tr>\n",
              "      <th>1</th>\n",
              "      <td>0</td>\n",
              "      <td>False</td>\n",
              "      <td>2</td>\n",
              "      <td>-0.333064</td>\n",
              "      <td>False</td>\n",
              "      <td>-0.177029</td>\n",
              "      <td>-0.281426</td>\n",
              "      <td>-0.254628</td>\n",
              "      <td>0.212625</td>\n",
              "      <td>-0.223642</td>\n",
              "      <td>5</td>\n",
              "      <td>0</td>\n",
              "      <td>1</td>\n",
              "      <td>-0.226446</td>\n",
              "      <td>2</td>\n",
              "    </tr>\n",
              "    <tr>\n",
              "      <th>2</th>\n",
              "      <td>1</td>\n",
              "      <td>False</td>\n",
              "      <td>2</td>\n",
              "      <td>2.041626</td>\n",
              "      <td>True</td>\n",
              "      <td>-0.279595</td>\n",
              "      <td>1.983971</td>\n",
              "      <td>-0.297370</td>\n",
              "      <td>5.687956</td>\n",
              "      <td>-0.219379</td>\n",
              "      <td>0</td>\n",
              "      <td>1</td>\n",
              "      <td>1</td>\n",
              "      <td>-0.158487</td>\n",
              "      <td>3</td>\n",
              "    </tr>\n",
              "    <tr>\n",
              "      <th>3</th>\n",
              "      <td>1</td>\n",
              "      <td>False</td>\n",
              "      <td>2</td>\n",
              "      <td>0.295530</td>\n",
              "      <td>False</td>\n",
              "      <td>-0.346419</td>\n",
              "      <td>0.527690</td>\n",
              "      <td>0.336922</td>\n",
              "      <td>2.681230</td>\n",
              "      <td>-0.096608</td>\n",
              "      <td>0</td>\n",
              "      <td>1</td>\n",
              "      <td>1</td>\n",
              "      <td>-0.158487</td>\n",
              "      <td>3</td>\n",
              "    </tr>\n",
              "    <tr>\n",
              "      <th>4</th>\n",
              "      <td>0</td>\n",
              "      <td>False</td>\n",
              "      <td>2</td>\n",
              "      <td>-0.891815</td>\n",
              "      <td>False</td>\n",
              "      <td>0.124454</td>\n",
              "      <td>-0.242685</td>\n",
              "      <td>-0.039208</td>\n",
              "      <td>0.226833</td>\n",
              "      <td>-0.259451</td>\n",
              "      <td>5</td>\n",
              "      <td>0</td>\n",
              "      <td>1</td>\n",
              "      <td>-0.113181</td>\n",
              "      <td>3</td>\n",
              "    </tr>\n",
              "    <tr>\n",
              "      <th>...</th>\n",
              "      <td>...</td>\n",
              "      <td>...</td>\n",
              "      <td>...</td>\n",
              "      <td>...</td>\n",
              "      <td>...</td>\n",
              "      <td>...</td>\n",
              "      <td>...</td>\n",
              "      <td>...</td>\n",
              "      <td>...</td>\n",
              "      <td>...</td>\n",
              "      <td>...</td>\n",
              "      <td>...</td>\n",
              "      <td>...</td>\n",
              "      <td>...</td>\n",
              "      <td>...</td>\n",
              "    </tr>\n",
              "    <tr>\n",
              "      <th>12965</th>\n",
              "      <td>0</td>\n",
              "      <td>True</td>\n",
              "      <td>2</td>\n",
              "      <td>0.365374</td>\n",
              "      <td>False</td>\n",
              "      <td>-0.346419</td>\n",
              "      <td>-0.287142</td>\n",
              "      <td>-0.297370</td>\n",
              "      <td>-0.274880</td>\n",
              "      <td>-0.261156</td>\n",
              "      <td>6</td>\n",
              "      <td>0</td>\n",
              "      <td>1</td>\n",
              "      <td>-0.090528</td>\n",
              "      <td>3</td>\n",
              "    </tr>\n",
              "    <tr>\n",
              "      <th>12966</th>\n",
              "      <td>0</td>\n",
              "      <td>False</td>\n",
              "      <td>2</td>\n",
              "      <td>0.924125</td>\n",
              "      <td>False</td>\n",
              "      <td>-0.346419</td>\n",
              "      <td>0.250787</td>\n",
              "      <td>-0.268305</td>\n",
              "      <td>-0.266000</td>\n",
              "      <td>-0.138384</td>\n",
              "      <td>6</td>\n",
              "      <td>0</td>\n",
              "      <td>0</td>\n",
              "      <td>-0.181140</td>\n",
              "      <td>3</td>\n",
              "    </tr>\n",
              "    <tr>\n",
              "      <th>12967</th>\n",
              "      <td>2</td>\n",
              "      <td>True</td>\n",
              "      <td>0</td>\n",
              "      <td>0.947406</td>\n",
              "      <td>False</td>\n",
              "      <td>-0.346419</td>\n",
              "      <td>-0.287142</td>\n",
              "      <td>-0.297370</td>\n",
              "      <td>-0.274880</td>\n",
              "      <td>-0.261156</td>\n",
              "      <td>3</td>\n",
              "      <td>1</td>\n",
              "      <td>0</td>\n",
              "      <td>-0.226446</td>\n",
              "      <td>2</td>\n",
              "    </tr>\n",
              "    <tr>\n",
              "      <th>12968</th>\n",
              "      <td>1</td>\n",
              "      <td>False</td>\n",
              "      <td>2</td>\n",
              "      <td>0.970687</td>\n",
              "      <td>False</td>\n",
              "      <td>-0.346419</td>\n",
              "      <td>1.414922</td>\n",
              "      <td>-0.297370</td>\n",
              "      <td>-0.274880</td>\n",
              "      <td>0.184744</td>\n",
              "      <td>3</td>\n",
              "      <td>1</td>\n",
              "      <td>0</td>\n",
              "      <td>-0.158487</td>\n",
              "      <td>3</td>\n",
              "    </tr>\n",
              "    <tr>\n",
              "      <th>12969</th>\n",
              "      <td>0</td>\n",
              "      <td>True</td>\n",
              "      <td>1</td>\n",
              "      <td>0.993969</td>\n",
              "      <td>False</td>\n",
              "      <td>-0.346419</td>\n",
              "      <td>-0.287142</td>\n",
              "      <td>-0.297370</td>\n",
              "      <td>-0.274880</td>\n",
              "      <td>-0.261156</td>\n",
              "      <td>6</td>\n",
              "      <td>0</td>\n",
              "      <td>1</td>\n",
              "      <td>-0.113181</td>\n",
              "      <td>3</td>\n",
              "    </tr>\n",
              "  </tbody>\n",
              "</table>\n",
              "<p>12970 rows × 15 columns</p>\n",
              "</div>"
            ],
            "text/plain": [
              "       HomePlanet  CryoSleep  Destination       Age    VIP  RoomService  \\\n",
              "0               1      False            2  0.714593  False    -0.346419   \n",
              "1               0      False            2 -0.333064  False    -0.177029   \n",
              "2               1      False            2  2.041626   True    -0.279595   \n",
              "3               1      False            2  0.295530  False    -0.346419   \n",
              "4               0      False            2 -0.891815  False     0.124454   \n",
              "...           ...        ...          ...       ...    ...          ...   \n",
              "12965           0       True            2  0.365374  False    -0.346419   \n",
              "12966           0      False            2  0.924125  False    -0.346419   \n",
              "12967           2       True            0  0.947406  False    -0.346419   \n",
              "12968           1      False            2  0.970687  False    -0.346419   \n",
              "12969           0       True            1  0.993969  False    -0.346419   \n",
              "\n",
              "       FoodCourt  ShoppingMall       Spa    VRDeck  CabinDeck  DeckPosition  \\\n",
              "0      -0.287142     -0.297370 -0.274880 -0.261156          1             1   \n",
              "1      -0.281426     -0.254628  0.212625 -0.223642          5             0   \n",
              "2       1.983971     -0.297370  5.687956 -0.219379          0             1   \n",
              "3       0.527690      0.336922  2.681230 -0.096608          0             1   \n",
              "4      -0.242685     -0.039208  0.226833 -0.259451          5             0   \n",
              "...          ...           ...       ...       ...        ...           ...   \n",
              "12965  -0.287142     -0.297370 -0.274880 -0.261156          6             0   \n",
              "12966   0.250787     -0.268305 -0.266000 -0.138384          6             0   \n",
              "12967  -0.287142     -0.297370 -0.274880 -0.261156          3             1   \n",
              "12968   1.414922     -0.297370 -0.274880  0.184744          3             1   \n",
              "12969  -0.287142     -0.297370 -0.274880 -0.261156          6             0   \n",
              "\n",
              "       CabinSide  NoRelatives  FamilySizeCat  \n",
              "0              0    -0.249099              2  \n",
              "1              1    -0.226446              2  \n",
              "2              1    -0.158487              3  \n",
              "3              1    -0.158487              3  \n",
              "4              1    -0.113181              3  \n",
              "...          ...          ...            ...  \n",
              "12965          1    -0.090528              3  \n",
              "12966          0    -0.181140              3  \n",
              "12967          0    -0.226446              2  \n",
              "12968          0    -0.158487              3  \n",
              "12969          1    -0.113181              3  \n",
              "\n",
              "[12970 rows x 15 columns]"
            ]
          },
          "execution_count": 21,
          "metadata": {},
          "output_type": "execute_result"
        }
      ],
      "source": [
        "from sklearn import preprocessing\n",
        "encoded = df_full_3.copy()\n",
        "\n",
        "columns=['HomePlanet', 'Destination', 'CabinDeck', 'DeckPosition', 'CabinSide', 'FamilySizeCat']\n",
        "\n",
        "for col in columns:\n",
        "\n",
        "    # Initialize a LabelEncoder object\n",
        "    label_encoder = preprocessing.LabelEncoder()\n",
        "    label_encoder.fit(encoded[col].unique())\n",
        "    encoded[col] = label_encoder.transform(encoded[col])\n",
        "    print(f\"{col}: {encoded[col].unique()}\")\n",
        "\n",
        "encoded"
      ]
    },
    {
      "cell_type": "code",
      "execution_count": 22,
      "metadata": {},
      "outputs": [
        {
          "name": "stdout",
          "output_type": "stream",
          "text": [
            "(8693, 15)\n",
            "(4277, 15)\n"
          ]
        }
      ],
      "source": [
        "data_4 = encoded.copy()\n",
        "\n",
        "train_data_final = data_4.loc[:df_train.index.max(), :].copy()\n",
        "test_data_final = data_4.loc[df_train.index.max()+1:, :].reset_index(drop=True).copy()\n",
        "\n",
        "print(train_data_final.shape)\n",
        "print(test_data_final.shape)"
      ]
    },
    {
      "cell_type": "code",
      "execution_count": 23,
      "metadata": {
        "id": "A7p-iUXzdIZo"
      },
      "outputs": [],
      "source": [
        "X = train_data_final.copy()\n",
        "y = target.astype(int)"
      ]
    },
    {
      "cell_type": "markdown",
      "metadata": {},
      "source": [
        "### Cross Validation"
      ]
    },
    {
      "cell_type": "code",
      "execution_count": 24,
      "metadata": {},
      "outputs": [],
      "source": [
        "from sklearn.model_selection import StratifiedKFold\n",
        "from sklearn.neighbors import KNeighborsClassifier\n",
        "from sklearn.naive_bayes import GaussianNB\n",
        "from sklearn.tree import DecisionTreeClassifier\n",
        "from sklearn.svm import SVC\n",
        "from sklearn.model_selection import cross_val_score\n",
        "\n",
        "models = []\n",
        "models.append(('KNN', KNeighborsClassifier()))\n",
        "models.append(('NB', GaussianNB()))\n",
        "models.append(('DT', DecisionTreeClassifier()))\n",
        "models.append(('SVM', SVC()))\n",
        "\n",
        "results = []\n",
        "names = []"
      ]
    },
    {
      "cell_type": "code",
      "execution_count": 25,
      "metadata": {},
      "outputs": [
        {
          "name": "stdout",
          "output_type": "stream",
          "text": [
            "KNN: 0.769928 (0.013240)\n",
            "NB: 0.707006 (0.011284)\n",
            "DT: 0.727483 (0.011307)\n",
            "SVM: 0.787297 (0.012041)\n"
          ]
        }
      ],
      "source": [
        "for name, model in models:\n",
        "    kfold = StratifiedKFold(n_splits=10, random_state=1, shuffle=True)\n",
        "    cv_results = cross_val_score(model, X, y, cv=kfold, scoring='accuracy')\n",
        "    results.append(cv_results)\n",
        "    names.append(name)\n",
        "    print('%s: %f (%f)' % (name, cv_results.mean(), cv_results.std()))"
      ]
    },
    {
      "cell_type": "markdown",
      "metadata": {},
      "source": [
        "Dari hasil K-Fold Cross Validation di atas, dapat disimpulkan bahwa model dengan tingkat akurasi terbaik adalah SVM, sehingga pada proses training dan testing akan menggunakan model SVM."
      ]
    },
    {
      "cell_type": "markdown",
      "metadata": {},
      "source": [
        "### Training the Model"
      ]
    },
    {
      "cell_type": "code",
      "execution_count": 26,
      "metadata": {
        "id": "jz8Tu0E2dTXK"
      },
      "outputs": [],
      "source": [
        "X_train, X_test, y_train, y_test = train_test_split(X, y, test_size=0.3, random_state=1)"
      ]
    },
    {
      "cell_type": "markdown",
      "metadata": {},
      "source": [
        "### Tuning Hyperparameter"
      ]
    },
    {
      "cell_type": "code",
      "execution_count": 27,
      "metadata": {},
      "outputs": [
        {
          "name": "stdout",
          "output_type": "stream",
          "text": [
            "Best parameters: {'C': 10, 'gamma': 'scale', 'kernel': 'rbf'}\n",
            "Best score: 0.7940838126540675\n",
            "Best estimator: SVC(C=10)\n"
          ]
        }
      ],
      "source": [
        "from sklearn.model_selection import GridSearchCV\n",
        "from sklearn.svm import SVC\n",
        "from sklearn.metrics import accuracy_score\n",
        "\n",
        "clf = GridSearchCV(SVC(), {\n",
        "    'gamma': ['auto', 'scale'],\n",
        "    'C': list(range(10, 100, 20)),\n",
        "    'kernel': ['rbf', 'linear']\n",
        "}, cv=5, return_train_score=False)\n",
        "\n",
        "clf.fit(X_train, y_train)\n",
        "print(f\"Best parameters: {clf.best_params_}\")\n",
        "print(f\"Best score: {clf.best_score_}\")\n",
        "print(f\"Best estimator: {clf.best_estimator_}\")"
      ]
    },
    {
      "cell_type": "code",
      "execution_count": 28,
      "metadata": {},
      "outputs": [
        {
          "name": "stdout",
          "output_type": "stream",
          "text": [
            "Accuracy: 0.7940950920245399\n"
          ]
        }
      ],
      "source": [
        "best_model = clf.best_estimator_\n",
        "best_model.fit(X_train, y_train)\n",
        "prediction = best_model.predict(X_test)\n",
        "print(f\"Accuracy: {accuracy_score(y_test, prediction)}\")"
      ]
    },
    {
      "cell_type": "markdown",
      "metadata": {},
      "source": [
        "### Evaluation After Tuning Hyperparameters"
      ]
    },
    {
      "cell_type": "code",
      "execution_count": 29,
      "metadata": {},
      "outputs": [
        {
          "name": "stdout",
          "output_type": "stream",
          "text": [
            "              precision    recall  f1-score   support\n",
            "\n",
            "           0       0.81      0.76      0.79      1291\n",
            "           1       0.78      0.82      0.80      1317\n",
            "\n",
            "    accuracy                           0.79      2608\n",
            "   macro avg       0.80      0.79      0.79      2608\n",
            "weighted avg       0.79      0.79      0.79      2608\n",
            "\n"
          ]
        }
      ],
      "source": [
        "from sklearn.metrics import classification_report\n",
        "\n",
        "print(classification_report(y_test, prediction))"
      ]
    },
    {
      "cell_type": "markdown",
      "metadata": {},
      "source": [
        "### Submission"
      ]
    },
    {
      "cell_type": "code",
      "execution_count": 30,
      "metadata": {},
      "outputs": [
        {
          "data": {
            "text/plain": [
              "array([1, 0, 1, ..., 1, 1, 1])"
            ]
          },
          "execution_count": 30,
          "metadata": {},
          "output_type": "execute_result"
        }
      ],
      "source": [
        "prediction = best_model.predict(test_data_final)\n",
        "prediction"
      ]
    },
    {
      "cell_type": "code",
      "execution_count": 31,
      "metadata": {},
      "outputs": [],
      "source": [
        "pred_dict = {'PassengerId': df_test['PassengerId'], 'Transported': prediction}\n",
        "pred_df = pd.DataFrame(pred_dict)\n",
        "\n",
        "pred_df['Transported'] = pred_df['Transported'].map({1: True, 0: False})\n",
        "pred_df.to_csv('submission_nontun_inter.csv', index=False)"
      ]
    },
    {
      "cell_type": "code",
      "execution_count": null,
      "metadata": {},
      "outputs": [],
      "source": []
    }
  ],
  "metadata": {
    "colab": {
      "provenance": []
    },
    "kernelspec": {
      "display_name": "Python 3",
      "name": "python3"
    },
    "language_info": {
      "codemirror_mode": {
        "name": "ipython",
        "version": 3
      },
      "file_extension": ".py",
      "mimetype": "text/x-python",
      "name": "python",
      "nbconvert_exporter": "python",
      "pygments_lexer": "ipython3",
      "version": "3.9.13"
    }
  },
  "nbformat": 4,
  "nbformat_minor": 0
}
